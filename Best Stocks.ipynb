{
 "cells": [
  {
   "cell_type": "markdown",
   "id": "137f6f8f-e715-43a6-a9bc-08c6578be2bd",
   "metadata": {},
   "source": [
    "Installing Required Packages\n",
    "1. Flair: A simple Natural Language Processing (NLP) library.\n",
    "2. PyTorch: A supporting library for Flair. PyTorch is one of the best deep learning frameworks present.\n",
    "3. Matplotlib: Library for plotting various types of graphs."
   ]
  },
  {
   "cell_type": "code",
   "execution_count": null,
   "id": "3bf89f41-4428-43c0-bf3e-91630af6ddb0",
   "metadata": {},
   "outputs": [],
   "source": [
    "# Commands to install libraries\n",
    "!pip install flair\n",
    "!pip install torch torchvision torchaudio --extra-index-url https://download.pytorch.org/whl/cu117\n",
    "!pip install matplotlib"
   ]
  },
  {
   "cell_type": "markdown",
   "id": "6ddf2cbf-34a9-41c6-a303-8f976d0f4f76",
   "metadata": {},
   "source": [
    "Importing Required Packages\n",
    "1. Pandas: Pandas will be used to create a dataframe.\n",
    "2. Flair: Flair will be used to analyze the data and predict an output.\n",
    "3. Matplotlib: Library for plotting various types of graphs."
   ]
  },
  {
   "cell_type": "code",
   "execution_count": null,
   "id": "8980901d",
   "metadata": {},
   "outputs": [],
   "source": [
    "import pandas as pd\n",
    "pd.set_option('display.max_colwidth', None)\n",
    "import flair\n",
    "sentiment_model = flair.models.TextClassifier.load('en-sentiment')\n",
    "import matplotlib.pyplot as plt"
   ]
  },
  {
   "cell_type": "markdown",
   "id": "c10f4e11-182b-429a-9dda-0a420f10d55e",
   "metadata": {},
   "source": [
    "Creating Dataframe"
   ]
  },
  {
   "cell_type": "code",
   "execution_count": null,
   "id": "f1daa97d-e1ae-44f9-af6f-12f479cfb1ce",
   "metadata": {},
   "outputs": [],
   "source": [
    "df = pd.read_csv('test.csv')\n",
    "df"
   ]
  },
  {
   "cell_type": "markdown",
   "id": "3d5639a8-b927-427e-baf4-b8bcf7d22101",
   "metadata": {},
   "source": [
    "Taking User Input for Company Type"
   ]
  },
  {
   "cell_type": "code",
   "execution_count": null,
   "id": "f59dfc16-0a3d-4508-b49f-043ef27d9517",
   "metadata": {},
   "outputs": [],
   "source": [
    "print('Company Types: ', df['Type'].unique())\n",
    "companyType = input('Choose Company Type: ')"
   ]
  },
  {
   "cell_type": "markdown",
   "id": "cfdf3886-d518-42b0-8185-3aa37a5a5c9c",
   "metadata": {},
   "source": [
    "Prediction"
   ]
  },
  {
   "cell_type": "code",
   "execution_count": null,
   "id": "8ffb5f2b-75bd-4d08-b64c-7da2d29e1af6",
   "metadata": {
    "tags": []
   },
   "outputs": [],
   "source": [
    "df2 = df[df['Type'] == companyType.upper()]\n",
    "length = len(df2['Symbol'].unique())\n",
    "\n",
    "growthDf = pd.DataFrame(columns = ['Symbol', 'Growth', 'Profit/Loss'])\n",
    "index = 1\n",
    "\n",
    "row = 1\n",
    "for x in df2['Symbol'].unique():\n",
    "    plt.subplot(2, length // 2, index)\n",
    "    index += 1\n",
    "    if row <= length // 2:\n",
    "        plt.title(x)\n",
    "    else:\n",
    "        plt.xlabel(x)\n",
    "    row += 1\n",
    "    plt.plot(df2[df2['Symbol'] == x]['Date'], df2[df2['Symbol'] == x]['Close'])\n",
    "    \n",
    "    \n",
    "    first = df2[df2['Symbol'] == x].iloc[0]\n",
    "    last = df2[df2['Symbol'] == x].iloc[-1]\n",
    "    growth = int(last['Close']) - int(first['Open'])\n",
    "    pl = ''\n",
    "    \n",
    "    if growth < 0:\n",
    "        pl = 'Loss'\n",
    "    elif growth > 0:\n",
    "        pl = 'Profit'\n",
    "    else:\n",
    "        pl = 'Stable'\n",
    "    growthDf.loc[len(growthDf)] = [x, growth, pl]\n",
    "    \n",
    "sentiment = []\n",
    "confidence = []\n",
    "for value in growthDf['Profit/Loss']:\n",
    "    sample = flair.data.Sentence(value)\n",
    "    sentiment_model.predict(sample)\n",
    "    sentiment.append(sample.labels[0].value)\n",
    "    confidence.append(sample.labels[0].score) \n",
    "plt.suptitle('5 Year Growth Graph of Companies under ' + companyType + ' sector:')\n",
    "plt.show()"
   ]
  },
  {
   "cell_type": "markdown",
   "id": "2b1277db-abf5-4a8a-8859-44fd94624c1f",
   "metadata": {},
   "source": [
    "Final Output"
   ]
  },
  {
   "cell_type": "code",
   "execution_count": null,
   "id": "bb0aa452-265f-4345-b70b-6af517cec5a1",
   "metadata": {},
   "outputs": [],
   "source": [
    "growthDf['Sentiment'] = sentiment\n",
    "growthDf['Confidence'] = confidence\n",
    "growthDf"
   ]
  }
 ],
 "metadata": {
  "kernelspec": {
   "display_name": "Python 3 (ipykernel)",
   "language": "python",
   "name": "python3"
  },
  "language_info": {
   "codemirror_mode": {
    "name": "ipython",
    "version": 3
   },
   "file_extension": ".py",
   "mimetype": "text/x-python",
   "name": "python",
   "nbconvert_exporter": "python",
   "pygments_lexer": "ipython3",
   "version": "3.9.13"
  }
 },
 "nbformat": 4,
 "nbformat_minor": 5
}
